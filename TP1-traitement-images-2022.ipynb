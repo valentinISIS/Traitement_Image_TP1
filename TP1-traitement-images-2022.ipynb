{
 "cells": [
  {
   "cell_type": "markdown",
   "metadata": {},
   "source": [
    "# TP Traitement d'images et morphomathématiques"
   ]
  },
  {
   "cell_type": "markdown",
   "metadata": {},
   "source": [
    "L'intérêt d'un notebook, outre le fait d'exécuter les cellules comme on le souhaite, est d'ajouter du\n",
    "texte en utilisant le langage markdown.\n",
    "1. Sélectionnez une cellule vide, puis cliquez sur le menu Cell > Cell type > Markdown. Vous\n",
    "pouvez alors y écrire du texte qui pourra être mis en forme.\n",
    "\n",
    "Python est complété par des modules, notamment numpy pour la programmation scientifique, skimage\n",
    "pour le traitement d’images et matplotlib pour l’affichage des résultats. Ces modules regroupent des\n",
    "sous-modules qui regoupent des fonctions.\n",
    "2. Dans une nouvelle cellule, tapez les instructions suivantes pour utiliser le sous-module io du\n",
    "module skimage et le sous-module pyplot du module matplotlib. Notez que ce dernier est\n",
    "renommé plt "
   ]
  },
  {
   "cell_type": "markdown",
   "metadata": {},
   "source": [
    "# Exercice 1 Introduction\n"
   ]
  },
  {
   "cell_type": "code",
   "execution_count": 2,
   "metadata": {},
   "outputs": [],
   "source": [
    "import skimage.io as io\n",
    "import numpy as np\n",
    "import skimage.color as color\n",
    "import matplotlib.pyplot as plt"
   ]
  },
  {
   "cell_type": "markdown",
   "metadata": {},
   "source": [
    "3. Lisez puis affichez l'image lena.tiff.\n"
   ]
  },
  {
   "cell_type": "code",
   "execution_count": null,
   "metadata": {},
   "outputs": [],
   "source": []
  },
  {
   "cell_type": "markdown",
   "metadata": {},
   "source": [
    "La conversion d’une image couleur de composantes r, v, b en une image à niveaux de gris de valeur g\n",
    "est obtenu grâce à la transformation\n",
    "$g = 0,2125 r + 0,7154 v + 0,0721 b$.\n",
    "Les coefficients garantissent que $g \\in [0,1]$ et ont été obtenus par des mesures psychovisuelles."
   ]
  },
  {
   "cell_type": "markdown",
   "metadata": {},
   "source": [
    "4.Convertissez l’image couleur en niveaux de gris (skimage.color.rgb2gray), puis affichez-la."
   ]
  },
  {
   "cell_type": "code",
   "execution_count": null,
   "metadata": {},
   "outputs": [],
   "source": []
  },
  {
   "cell_type": "markdown",
   "metadata": {},
   "source": [
    "5.Extraire de l’image une ligne ou une colonne de pixels, puis affichez ce profil de luminosité\n",
    "sous forme d’un signal (matplotlib.pyplot.plot). Arrivez-vous à retrouver dans ce profil les\n",
    "différentes zones de l’image ?\n"
   ]
  },
  {
   "cell_type": "code",
   "execution_count": null,
   "metadata": {},
   "outputs": [],
   "source": []
  },
  {
   "cell_type": "markdown",
   "metadata": {},
   "source": [
    "#  Etude à partir de l'histogramme\n",
    "\n"
   ]
  },
  {
   "cell_type": "markdown",
   "metadata": {},
   "source": [
    "# Exercice 1"
   ]
  },
  {
   "cell_type": "markdown",
   "metadata": {},
   "source": [
    "6.Chargez l'image  forest.png et convertissez-la en niveaux de gris"
   ]
  },
  {
   "cell_type": "code",
   "execution_count": null,
   "metadata": {},
   "outputs": [],
   "source": []
  },
  {
   "cell_type": "markdown",
   "metadata": {},
   "source": [
    "7.Calculez son histogramme avec la fonction skimage.exposure.histogram, puis affichez-le avec\n",
    "matplotlib.pyplot.bar. Essayez avec plusieurs nombres de barres : que pouvez-vous en dire ?\n"
   ]
  },
  {
   "cell_type": "code",
   "execution_count": null,
   "metadata": {},
   "outputs": [],
   "source": []
  },
  {
   "cell_type": "markdown",
   "metadata": {},
   "source": [
    "8.Vous constaterez que l’image est peu contrastée : comment cela se\n",
    "traduit-il sur l’histogramme ?\n"
   ]
  },
  {
   "cell_type": "code",
   "execution_count": null,
   "metadata": {},
   "outputs": [],
   "source": []
  },
  {
   "cell_type": "markdown",
   "metadata": {},
   "source": [
    "9.Multipliez l’image par un réel positif : que se passe-t-il sur l’image et son histogramme ?"
   ]
  },
  {
   "cell_type": "code",
   "execution_count": null,
   "metadata": {},
   "outputs": [],
   "source": []
  },
  {
   "cell_type": "markdown",
   "metadata": {},
   "source": [
    "10. Binariser l'image avec un seuil adéquat. Vous justifierez ce seuil par l'analyse de l'histogramme"
   ]
  },
  {
   "cell_type": "code",
   "execution_count": null,
   "metadata": {},
   "outputs": [],
   "source": []
  },
  {
   "cell_type": "markdown",
   "metadata": {},
   "source": [
    "Dans un deuxième temps, le seuil est déterminé grâce à la méthode de Otsu.\n",
    "11. Utilisez skimage.filters.threshold_otsu pour déterminer une valeur de seuil, et affichez la\n",
    "segmentation résultante."
   ]
  },
  {
   "cell_type": "markdown",
   "metadata": {},
   "source": [
    "# Exercice 2"
   ]
  },
  {
   "cell_type": "markdown",
   "metadata": {},
   "source": [
    "12.On souhaite segmenter les pièces de monnaie de l’image coins1.png. Dans une premier temps, le choix\n",
    "du seuil est effectué à partir de l’histogramme de l’image."
   ]
  },
  {
   "cell_type": "code",
   "execution_count": null,
   "metadata": {},
   "outputs": [],
   "source": []
  },
  {
   "cell_type": "markdown",
   "metadata": {},
   "source": [
    "13.Affichez l’histogramme de l’image coins1.png, et déduisez-en un seuil pour segmenter l’image.\n",
    "L’image seuillée image2 est obtenue à partir de l’image image1 et le seuil"
   ]
  },
  {
   "cell_type": "code",
   "execution_count": null,
   "metadata": {},
   "outputs": [],
   "source": []
  },
  {
   "cell_type": "markdown",
   "metadata": {},
   "source": [
    "Dans un deuxième temps, le seuil est déterminé grâce à la méthode de Otsu.\n",
    "14. Utilisez skimage.filters.threshold_otsu pour déterminer une valeur de seuil, et affichez la\n",
    "segmentation résultante."
   ]
  },
  {
   "cell_type": "code",
   "execution_count": null,
   "metadata": {},
   "outputs": [],
   "source": []
  },
  {
   "cell_type": "markdown",
   "metadata": {},
   "source": [
    "# Morphomathématiques  "
   ]
  },
  {
   "cell_type": "markdown",
   "metadata": {},
   "source": [
    "# Exercice 1"
   ]
  },
  {
   "cell_type": "markdown",
   "metadata": {},
   "source": [
    "1.Chargez et affichez l'image cell.png.\n"
   ]
  },
  {
   "cell_type": "markdown",
   "metadata": {},
   "source": [
    "2.Nettoyez l'image en enlevant les petits grains blancs et noirs qui sont dessus."
   ]
  },
  {
   "cell_type": "code",
   "execution_count": null,
   "metadata": {},
   "outputs": [],
   "source": []
  },
  {
   "cell_type": "markdown",
   "metadata": {},
   "source": [
    "# Exercice 2"
   ]
  },
  {
   "cell_type": "markdown",
   "metadata": {},
   "source": [
    "L’objectif de cet exercice est de trouver puis de compter le nombre de piscines visibles dans l’image\n",
    "satellitaire moliets.png. Dans un premier temps, ne cherchez pas à trouver parfaitement toutes les\n",
    "piscines : implémentez une première méthode qui donne un résultat approximatif de manière automatique.\n",
    "La plupart des fonctions utiles sont à importer depuis le module skimage.morphology.\n"
   ]
  },
  {
   "cell_type": "markdown",
   "metadata": {},
   "source": [
    "1.Appliquez un seuillage sur l’image pour mettre en évidence les piscines. Posez-vous la question\n",
    "de l’image à utiliser : vaut-il mieux travailler avec l’image initiale, l’image en niveau de gris, une\n",
    "bande particulière. . . ?\n"
   ]
  },
  {
   "cell_type": "code",
   "execution_count": null,
   "metadata": {},
   "outputs": [],
   "source": []
  },
  {
   "cell_type": "markdown",
   "metadata": {},
   "source": [
    "2.Appliquez les opérateurs morphologiques vus en cours (érosion, dilatation, ouverture, fermeture)\n",
    "pour observer leur influence et en déduire l’opérateur le plus adapté au problème."
   ]
  },
  {
   "cell_type": "code",
   "execution_count": null,
   "metadata": {},
   "outputs": [],
   "source": []
  },
  {
   "cell_type": "markdown",
   "metadata": {},
   "source": [
    "7.Que permet de faire la fonction skimage.measure.regionprops ? En quoi peut-elle être utile\n",
    "pour compter le nombre de piscines ? Appliquez-la pour déterminer le nombre de piscines"
   ]
  },
  {
   "cell_type": "code",
   "execution_count": null,
   "metadata": {},
   "outputs": [],
   "source": []
  }
 ],
 "metadata": {
  "kernelspec": {
   "display_name": "Python 3",
   "language": "python",
   "name": "python3"
  },
  "language_info": {
   "codemirror_mode": {
    "name": "ipython",
    "version": 3
   },
   "file_extension": ".py",
   "mimetype": "text/x-python",
   "name": "python",
   "nbconvert_exporter": "python",
   "pygments_lexer": "ipython3",
   "version": "3.6.8"
  }
 },
 "nbformat": 4,
 "nbformat_minor": 2
}
